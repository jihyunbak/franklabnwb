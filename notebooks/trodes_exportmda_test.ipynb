{
 "cells": [
  {
   "cell_type": "markdown",
   "metadata": {},
   "source": [
    "#  Trodes `exportmda` test\n",
    "\n",
    "On Linux, Trodes v1.8.2 works, but v1.9.1 fails (something wrong in the header information)"
   ]
  },
  {
   "cell_type": "code",
   "execution_count": 1,
   "metadata": {},
   "outputs": [],
   "source": [
    "# import basic packages\n",
    "import os\n",
    "import sys"
   ]
  },
  {
   "cell_type": "code",
   "execution_count": 2,
   "metadata": {},
   "outputs": [],
   "source": [
    "from subprocess import Popen\n",
    "\n",
    "rec_input = '/stelmo/jhbak/beans/raw/20190718/20190718_beans_01_s1.rec'\n",
    "\n",
    "# output\n",
    "test_out_dir = '/stelmo/jhbak/beans/tmp/'\n",
    "os.makedirs(test_out_dir, exist_ok=True)"
   ]
  },
  {
   "cell_type": "markdown",
   "metadata": {},
   "source": [
    "### using Trodes v1.8.2\n",
    "\n",
    "downloaded the \"linux offline installer\" and installed using GUI"
   ]
  },
  {
   "cell_type": "code",
   "execution_count": 3,
   "metadata": {},
   "outputs": [],
   "source": [
    "trodes_path = '/home/jhbak/opt/SpikeGadgets/'\n",
    "outname = 'test-v1-8-2'\n",
    "\n",
    "process = Popen([trodes_path + 'exportmda', \n",
    "                  '-rec', rec_input, \n",
    "                  '-outputdirectory', test_out_dir, \n",
    "                  '-output', outname, \n",
    "                  '-usespikefilters', '0', \n",
    "                  '-interp', '0', \n",
    "                  '-userefs', '0'])\n",
    "stdout, stderr = process.communicate()"
   ]
  },
  {
   "cell_type": "code",
   "execution_count": 4,
   "metadata": {},
   "outputs": [],
   "source": [
    "outname = 'test-v1-8-2'\n",
    "mda_filename8 = test_out_dir + outname + '.mda/' + outname + '.nt1.mda'"
   ]
  },
  {
   "cell_type": "code",
   "execution_count": 5,
   "metadata": {},
   "outputs": [
    {
     "name": "stdout",
     "output_type": "stream",
     "text": [
      "-rw-rw-r-- 1 jhbak root 167M Oct  4 22:17 /stelmo/jhbak/beans/tmp/test-v1-8-2.mda/test-v1-8-2.nt1.mda\r\n"
     ]
    }
   ],
   "source": [
    "# check: this file exists and has something in it\n",
    "! ls -lh $mda_filename8"
   ]
  },
  {
   "cell_type": "code",
   "execution_count": 6,
   "metadata": {},
   "outputs": [
    {
     "data": {
      "text/plain": [
       "array([[-460, -523, -385, ...,  853,  705,  714],\n",
       "       [-311, -360, -287, ...,  720,  659,  657],\n",
       "       [-202, -251, -159, ...,   92, -301,  265],\n",
       "       [-348, -373, -372, ...,  698,  708,  724]], dtype=int16)"
      ]
     },
     "execution_count": 6,
     "metadata": {},
     "output_type": "execute_result"
    }
   ],
   "source": [
    "# this is basically what's being done in MdaDataManager.read_data(file)\n",
    "from mountainlab_pytools.mdaio import readmda\n",
    "readmda(mda_filename8)"
   ]
  },
  {
   "cell_type": "markdown",
   "metadata": {},
   "source": [
    "### using Trodes v1.9.1\n",
    "\n",
    "simply downloaded tar.gz and extracted"
   ]
  },
  {
   "cell_type": "code",
   "execution_count": 7,
   "metadata": {},
   "outputs": [],
   "source": [
    "trodes_path = '/home/jhbak/opt/Trodes_1-9-1_Ubuntu1604/'\n",
    "outname = 'test-v1-9-1'\n",
    "\n",
    "process = Popen([trodes_path + 'exportmda', \n",
    "                  '-rec', rec_input, \n",
    "                  '-outputdirectory', test_out_dir, \n",
    "                  '-output', outname, \n",
    "                  '-usespikefilters', '0', \n",
    "                  '-interp', '0', \n",
    "                  '-userefs', '0'])\n",
    "stdout, stderr = process.communicate()"
   ]
  },
  {
   "cell_type": "code",
   "execution_count": 8,
   "metadata": {},
   "outputs": [],
   "source": [
    "outname = 'test-v1-9-1'\n",
    "mda_filename9 = test_out_dir + outname + '.mda/' + outname + '.nt1.mda'"
   ]
  },
  {
   "cell_type": "code",
   "execution_count": 9,
   "metadata": {},
   "outputs": [
    {
     "name": "stdout",
     "output_type": "stream",
     "text": [
      "-rw-rw-r-- 1 jhbak root 167M Oct  4 22:22 /stelmo/jhbak/beans/tmp/test-v1-9-1.mda/test-v1-9-1.nt1.mda\r\n"
     ]
    }
   ],
   "source": [
    "# check: this file exists and has something in it\n",
    "! ls -lh $mda_filename9"
   ]
  },
  {
   "cell_type": "code",
   "execution_count": 10,
   "metadata": {},
   "outputs": [
    {
     "data": {
      "text/plain": [
       "array([], shape=(4, 0), dtype=int16)"
      ]
     },
     "execution_count": 10,
     "metadata": {},
     "output_type": "execute_result"
    }
   ],
   "source": [
    "# this is basically what's being done in MdaDataManager.read_data(file)\n",
    "from mountainlab_pytools.mdaio import readmda\n",
    "readmda(mda_filename9)"
   ]
  },
  {
   "cell_type": "markdown",
   "metadata": {},
   "source": [
    "### also tested Trodes v1.9.0\n",
    "\n",
    "downloaded tar.gz and extracted"
   ]
  },
  {
   "cell_type": "code",
   "execution_count": 11,
   "metadata": {},
   "outputs": [],
   "source": [
    "trodes_path = '/home/jhbak/opt/Trodes_1-9-0-Ubuntu16/'\n",
    "outname = 'test-v1-9-0'\n",
    "\n",
    "process = Popen([trodes_path + 'exportmda', \n",
    "                  '-rec', rec_input, \n",
    "                  '-outputdirectory', test_out_dir, \n",
    "                  '-output', outname, \n",
    "                  '-usespikefilters', '0', \n",
    "                  '-interp', '0', \n",
    "                  '-userefs', '0'])\n",
    "stdout, stderr = process.communicate()"
   ]
  },
  {
   "cell_type": "code",
   "execution_count": 12,
   "metadata": {},
   "outputs": [],
   "source": [
    "outname = 'test-v1-9-0'\n",
    "mda_filename90 = test_out_dir + outname + '.mda/' + outname + '.nt1.mda'"
   ]
  },
  {
   "cell_type": "code",
   "execution_count": 13,
   "metadata": {},
   "outputs": [
    {
     "name": "stdout",
     "output_type": "stream",
     "text": [
      "-rw-rw-r-- 1 jhbak root 167M Oct  4 22:26 /stelmo/jhbak/beans/tmp/test-v1-9-0.mda/test-v1-9-0.nt1.mda\r\n"
     ]
    }
   ],
   "source": [
    "# check: this file exists and has something in it\n",
    "! ls -lh $mda_filename90"
   ]
  },
  {
   "cell_type": "code",
   "execution_count": 14,
   "metadata": {},
   "outputs": [
    {
     "data": {
      "text/plain": [
       "array([], shape=(4, 0), dtype=int16)"
      ]
     },
     "execution_count": 14,
     "metadata": {},
     "output_type": "execute_result"
    }
   ],
   "source": [
    "# this is basically what's being done in MdaDataManager.read_data(file)\n",
    "from mountainlab_pytools.mdaio import readmda\n",
    "readmda(mda_filename90)"
   ]
  },
  {
   "cell_type": "markdown",
   "metadata": {},
   "source": [
    "### check headers"
   ]
  },
  {
   "cell_type": "code",
   "execution_count": 15,
   "metadata": {},
   "outputs": [],
   "source": [
    "from mountainlab_pytools.mdaio.mdaio_impl import (_read_int32,\n",
    "                                                  _dt_from_dt_code)\n",
    "\n",
    "def check_header(path):\n",
    "    var_order = [ # according to mountainlab_pytools\n",
    "        'dtype_code',\n",
    "        'num_bytes_per_entry',\n",
    "        'num_dims',\n",
    "        'dim[0]',\n",
    "        'dim[1]',\n",
    "        'first content byte']\n",
    "    # read first few bytes\n",
    "    f=open(path, \"rb\")\n",
    "    for j in range(0, len(var_order)):\n",
    "        tmp0=_read_int32(f)\n",
    "        print('{}: ({}) {}'.format(j, var_order[j], str(tmp0)))\n",
    "        if j==0:\n",
    "            print('   --> dtype: {}'.format(_dt_from_dt_code(tmp0)))\n",
    "    f.close()"
   ]
  },
  {
   "cell_type": "code",
   "execution_count": 16,
   "metadata": {},
   "outputs": [
    {
     "name": "stdout",
     "output_type": "stream",
     "text": [
      "0: (dtype_code) -4\n",
      "   --> dtype: int16\n",
      "1: (num_bytes_per_entry) 2\n",
      "2: (num_dims) 2\n",
      "3: (dim[0]) 4\n",
      "4: (dim[1]) 21839001\n",
      "5: (first content byte) -20316620\n"
     ]
    }
   ],
   "source": [
    "check_header(mda_filename8)\n",
    "# mountainlab_pytools.readmda() expects a [4, 21839001] array"
   ]
  },
  {
   "cell_type": "code",
   "execution_count": 17,
   "metadata": {},
   "outputs": [
    {
     "name": "stdout",
     "output_type": "stream",
     "text": [
      "0: (dtype_code) -4\n",
      "   --> dtype: int16\n",
      "1: (num_bytes_per_entry) 2\n",
      "2: (num_dims) 2\n",
      "3: (dim[0]) 4\n",
      "4: (dim[1]) 0\n",
      "5: (first content byte) 20382156\n"
     ]
    }
   ],
   "source": [
    "check_header(mda_filename9)\n",
    "# mountainlab_pytools.readmda() expects a [4, 0] array"
   ]
  },
  {
   "cell_type": "code",
   "execution_count": null,
   "metadata": {},
   "outputs": [],
   "source": []
  }
 ],
 "metadata": {
  "kernelspec": {
   "display_name": "Python 3",
   "language": "python",
   "name": "python3"
  },
  "language_info": {
   "codemirror_mode": {
    "name": "ipython",
    "version": 3
   },
   "file_extension": ".py",
   "mimetype": "text/x-python",
   "name": "python",
   "nbconvert_exporter": "python",
   "pygments_lexer": "ipython3",
   "version": "3.6.12"
  }
 },
 "nbformat": 4,
 "nbformat_minor": 4
}
