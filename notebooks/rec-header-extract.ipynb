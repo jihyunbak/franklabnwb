{
 "cells": [
  {
   "cell_type": "code",
   "execution_count": 1,
   "metadata": {},
   "outputs": [],
   "source": [
    "import os\n",
    "import io"
   ]
  },
  {
   "cell_type": "code",
   "execution_count": 16,
   "metadata": {
    "scrolled": true
   },
   "outputs": [],
   "source": [
    "def read_rec_header(path, max_lines=1000, encoding='ISO-8859-1', stop_marker=None):\n",
    "    header = []\n",
    "    with io.open(path, 'r', encoding=encoding) as fh:\n",
    "        try:\n",
    "            cnt = 0\n",
    "            for line in fh:\n",
    "                header.append(line)\n",
    "                cnt = cnt + 1\n",
    "                stop = (cnt >= max_lines) or (stop_marker and stop_marker in line)\n",
    "                if stop:\n",
    "                    break\n",
    "        except Exception as e: # catch *all* exceptions\n",
    "            print('Error while reading line {}:'.format(cnt))\n",
    "            print(e)\n",
    "            fcopy.close()\n",
    "            return None\n",
    "    return header"
   ]
  },
  {
   "cell_type": "code",
   "execution_count": 4,
   "metadata": {
    "scrolled": true
   },
   "outputs": [],
   "source": [
    "def _copy_header_lines(rec_path=None, copy_path=None, encoding='ISO-8859-1',\n",
    "                       stop_marker=None, max_lines=1000):\n",
    "    if rec_path is None:\n",
    "        raise ValueError('input path is required.')\n",
    "    if copy_path is None:\n",
    "        raise ValueError('output path is required.')\n",
    "    fcopy = io.open(copy_path, 'w', encoding=encoding)\n",
    "    with io.open(rec_path, 'r', encoding=encoding) as fh:\n",
    "        try:\n",
    "            cnt = 0\n",
    "            for line in fh:\n",
    "                fcopy.write(line)\n",
    "                cnt = cnt + 1\n",
    "                stop = (cnt >= max_lines) or (stop_marker and stop_marker in line)\n",
    "                if stop:\n",
    "                    break\n",
    "        except Exception as e: # catch *all* exceptions\n",
    "            print('Error while reading line {}:'.format(cnt))\n",
    "            print(e)\n",
    "            fcopy.close()\n",
    "            return None\n",
    "    fcopy.close()\n",
    "    return cnt\n",
    "\n",
    "def copy_rec_header(rec_path, max_lines=1000, copy_dir='tmp_out'):    \n",
    "    # check input path\n",
    "    rec_dir = os.path.dirname(rec_path)\n",
    "    rec_filename = os.path.basename(rec_path)\n",
    "    if rec_filename[-4:] != '.rec':\n",
    "        raise ValueError('unknown file extension')\n",
    "    print('Input file: {}'.format(rec_path))\n",
    "    \n",
    "    # set output path\n",
    "    os.makedirs(copy_dir, exist_ok=True)\n",
    "    copy_path = os.path.join(copy_dir, \n",
    "                             rec_filename + 'Header' # .recHeader\n",
    "                            )\n",
    "    print('Output file: {}'.format(copy_path))\n",
    "    \n",
    "    # copy line by line\n",
    "    cnt = _copy_header_lines(rec_path=rec_path,\n",
    "                             copy_path=copy_path,\n",
    "                             encoding='ISO-8859-1',\n",
    "                             stop_marker='</Configuration>',\n",
    "                             max_lines=max_lines\n",
    "                            )\n",
    "    print('Copied {} lines.'.format(cnt))\n",
    "    "
   ]
  },
  {
   "cell_type": "code",
   "execution_count": 5,
   "metadata": {},
   "outputs": [],
   "source": [
    "file_name = '/data2/jason/kf2/raw/20170207/20170207_kf2_01_s1.rec'"
   ]
  },
  {
   "cell_type": "code",
   "execution_count": 6,
   "metadata": {},
   "outputs": [
    {
     "name": "stdout",
     "output_type": "stream",
     "text": [
      "-rw-rw-r-- 1 jason jason 29G Feb  8  2017 /data2/jason/kf2/raw/20170207/20170207_kf2_01_s1.rec\r\n"
     ]
    }
   ],
   "source": [
    "! ls -lh $file_name"
   ]
  },
  {
   "cell_type": "code",
   "execution_count": 7,
   "metadata": {
    "scrolled": false
   },
   "outputs": [
    {
     "name": "stdout",
     "output_type": "stream",
     "text": [
      "['01_s1', '02_r1', '03_s2', '04_r2', '05_s3', '06_r3', '07_s4']\n"
     ]
    }
   ],
   "source": [
    "date = '20170207'\n",
    "animal = 'kf2'\n",
    "\n",
    "sess_tags = []\n",
    "cnt = 0\n",
    "stop = False\n",
    "for i in range(5):\n",
    "    for ph in ['s', 'r']:\n",
    "        cnt = cnt + 1\n",
    "        sess = '{:02d}_{}{}'.format(cnt, ph, i+1)\n",
    "        sess_tags.append(sess)\n",
    "        if cnt >= 7:\n",
    "            stop = True\n",
    "            break\n",
    "    if stop:\n",
    "        break\n",
    "    \n",
    "print(sess_tags)"
   ]
  },
  {
   "cell_type": "code",
   "execution_count": 17,
   "metadata": {
    "scrolled": true
   },
   "outputs": [
    {
     "name": "stdout",
     "output_type": "stream",
     "text": [
      "Input file: /data2/jason/kf2/raw/20170207/20170207_kf2_01_s1.rec\n",
      "Output file: tmp_out/20170207_kf2_01_s1.recHeader\n",
      "Copied 496 lines.\n",
      "Input file: /data2/jason/kf2/raw/20170207/20170207_kf2_02_r1.rec\n",
      "Output file: tmp_out/20170207_kf2_02_r1.recHeader\n",
      "Copied 496 lines.\n",
      "Input file: /data2/jason/kf2/raw/20170207/20170207_kf2_03_s2.rec\n",
      "Output file: tmp_out/20170207_kf2_03_s2.recHeader\n",
      "Copied 496 lines.\n",
      "Input file: /data2/jason/kf2/raw/20170207/20170207_kf2_04_r2.rec\n",
      "Output file: tmp_out/20170207_kf2_04_r2.recHeader\n",
      "Copied 496 lines.\n",
      "Input file: /data2/jason/kf2/raw/20170207/20170207_kf2_05_s3.rec\n",
      "Output file: tmp_out/20170207_kf2_05_s3.recHeader\n",
      "Copied 496 lines.\n",
      "Input file: /data2/jason/kf2/raw/20170207/20170207_kf2_06_r3.rec\n",
      "Output file: tmp_out/20170207_kf2_06_r3.recHeader\n",
      "Copied 496 lines.\n",
      "Input file: /data2/jason/kf2/raw/20170207/20170207_kf2_07_s4.rec\n",
      "Output file: tmp_out/20170207_kf2_07_s4.recHeader\n",
      "Copied 496 lines.\n"
     ]
    }
   ],
   "source": [
    "for sess in sess_tags:\n",
    "    rec_dir = '/data2/jason/{}/raw/{}/'.format(animal, date)\n",
    "    rec_filename = '{}_{}_{}.rec'.format(date, animal, sess)\n",
    "    rec_path = os.path.join(rec_dir + rec_filename)\n",
    "    copy_rec_header(rec_path)"
   ]
  },
  {
   "cell_type": "code",
   "execution_count": 18,
   "metadata": {},
   "outputs": [
    {
     "name": "stdout",
     "output_type": "stream",
     "text": [
      "496\n"
     ]
    }
   ],
   "source": [
    "H = read_rec_header('tmp_out/20170207_kf2_07_s4.recHeader')\n",
    "print(len(H))"
   ]
  },
  {
   "cell_type": "code",
   "execution_count": null,
   "metadata": {},
   "outputs": [],
   "source": []
  },
  {
   "cell_type": "code",
   "execution_count": null,
   "metadata": {},
   "outputs": [],
   "source": []
  },
  {
   "cell_type": "code",
   "execution_count": null,
   "metadata": {},
   "outputs": [],
   "source": []
  },
  {
   "cell_type": "code",
   "execution_count": null,
   "metadata": {},
   "outputs": [],
   "source": []
  },
  {
   "cell_type": "code",
   "execution_count": 38,
   "metadata": {},
   "outputs": [],
   "source": [
    "def write_xml_from_list(out_filename, header):\n",
    "    with open(out_filename, 'w') as fh:\n",
    "        for line in header:\n",
    "            fh.write('%s' % line) # line already includes '\\n'"
   ]
  },
  {
   "cell_type": "code",
   "execution_count": 39,
   "metadata": {},
   "outputs": [],
   "source": [
    "write_xml_from_list('test.xml', H)"
   ]
  },
  {
   "cell_type": "code",
   "execution_count": null,
   "metadata": {},
   "outputs": [],
   "source": []
  },
  {
   "cell_type": "code",
   "execution_count": null,
   "metadata": {},
   "outputs": [],
   "source": []
  },
  {
   "cell_type": "markdown",
   "metadata": {},
   "source": [
    "## header xml to dict"
   ]
  },
  {
   "cell_type": "code",
   "execution_count": 55,
   "metadata": {},
   "outputs": [],
   "source": [
    "import xmltodict\n",
    "import json\n",
    "\n",
    "def read_xml(xml_path, attr_prefix='', unorder_dict=True):\n",
    "    '''\n",
    "    default attr_prefix for xmltodict is '@'\n",
    "    '''\n",
    "    with open(xml_path) as fh:\n",
    "        ordered_dict = xmltodict.parse(fh.read(), attr_prefix=attr_prefix)\n",
    "    if unorder_dict:\n",
    "        # convert to plain dict\n",
    "        return json.loads(json.dumps(ordered_dict))\n",
    "    return ordered_dict"
   ]
  },
  {
   "cell_type": "code",
   "execution_count": 72,
   "metadata": {},
   "outputs": [],
   "source": [
    "def show_keys(dict_obj, depth=None, prefix='- ', indent='  '):\n",
    "    if depth == 0:\n",
    "        return\n",
    "    for key, value in dict_obj.items():\n",
    "        print(prefix + key)\n",
    "        if not isinstance(value, dict):\n",
    "            continue\n",
    "        depth = depth - 1 if (depth is not None) else None\n",
    "        show_keys(value, depth=depth, \n",
    "                  prefix=(indent + prefix), indent=indent)\n",
    "    return"
   ]
  },
  {
   "cell_type": "code",
   "execution_count": 56,
   "metadata": {},
   "outputs": [],
   "source": [
    "data = read_xml('test.xml')"
   ]
  },
  {
   "cell_type": "code",
   "execution_count": 63,
   "metadata": {},
   "outputs": [
    {
     "name": "stdout",
     "output_type": "stream",
     "text": [
      "GlobalConfiguration\n",
      " - filePrefix: test\n",
      " - systemTimeAtCreation: 1486485696798\n",
      " - realtimeMode: 0\n",
      " - saveDisplayedChanOnly: 1\n",
      " - filePath: /Users/karlssonm/datadump\n",
      " - timestampAtCreation: 2815990\n",
      "HardwareConfiguration\n",
      " - samplingRate: 30000\n",
      " - numChannels: 320\n",
      " - Device: [{'numBytes': '1', 'name': 'MCU_IO', 'packetOrderPreference': '10', 'available': '1', 'Channel': [{'dataType': 'digital', 'id': 'MCU_Din1', 'bit': '0', 'startByte': '0', 'input': '1'}, {'dataType': 'digital', 'id': 'MCU_Din2', 'bit': '1', 'startByte': '0', 'input': '1'}, {'dataType': 'digital', 'id': 'MCU_Din3', 'bit': '2', 'startByte': '0', 'input': '1'}, {'dataType': 'digital', 'id': 'MCU_Din4', 'bit': '3', 'startByte': '0', 'input': '1'}, {'dataType': 'digital', 'id': 'MCU_Din5', 'bit': '4', 'startByte': '0', 'input': '1'}, {'dataType': 'digital', 'id': 'MCU_Din6', 'bit': '5', 'startByte': '0', 'input': '1'}, {'dataType': 'digital', 'id': 'MCU_Din7', 'bit': '6', 'startByte': '0', 'input': '1'}, {'dataType': 'digital', 'id': 'MCU_Din8', 'bit': '7', 'startByte': '0', 'input': '1'}]}, {'numBytes': '32', 'name': 'ECU', 'packetOrderPreference': '20', 'available': '1', 'Channel': [{'dataType': 'digital', 'id': 'Din1', 'bit': '0', 'startByte': '0', 'input': '1'}, {'dataType': 'digital', 'id': 'Din2', 'bit': '1', 'startByte': '0', 'input': '1'}, {'dataType': 'digital', 'id': 'Din3', 'bit': '2', 'startByte': '0', 'input': '1'}, {'dataType': 'digital', 'id': 'Din4', 'bit': '3', 'startByte': '0', 'input': '1'}, {'dataType': 'digital', 'id': 'Din5', 'bit': '4', 'startByte': '0', 'input': '1'}, {'dataType': 'digital', 'id': 'Din6', 'bit': '5', 'startByte': '0', 'input': '1'}, {'dataType': 'digital', 'id': 'Din7', 'bit': '6', 'startByte': '0', 'input': '1'}, {'dataType': 'digital', 'id': 'Din8', 'bit': '7', 'startByte': '0', 'input': '1'}, {'dataType': 'digital', 'id': 'Din9', 'bit': '0', 'startByte': '1', 'input': '1'}, {'dataType': 'digital', 'id': 'Din10', 'bit': '1', 'startByte': '1', 'input': '1'}, {'dataType': 'digital', 'id': 'Din11', 'bit': '2', 'startByte': '1', 'input': '1'}, {'dataType': 'digital', 'id': 'Din12', 'bit': '3', 'startByte': '1', 'input': '1'}, {'dataType': 'digital', 'id': 'Din13', 'bit': '4', 'startByte': '1', 'input': '1'}, {'dataType': 'digital', 'id': 'Din14', 'bit': '5', 'startByte': '1', 'input': '1'}, {'dataType': 'digital', 'id': 'Din15', 'bit': '6', 'startByte': '1', 'input': '1'}, {'dataType': 'digital', 'id': 'Din16', 'bit': '7', 'startByte': '1', 'input': '1'}, {'dataType': 'digital', 'id': 'Din17', 'bit': '0', 'startByte': '2', 'input': '1'}, {'dataType': 'digital', 'id': 'Din18', 'bit': '1', 'startByte': '2', 'input': '1'}, {'dataType': 'digital', 'id': 'Din19', 'bit': '2', 'startByte': '2', 'input': '1'}, {'dataType': 'digital', 'id': 'Din20', 'bit': '3', 'startByte': '2', 'input': '1'}, {'dataType': 'digital', 'id': 'Din21', 'bit': '4', 'startByte': '2', 'input': '1'}, {'dataType': 'digital', 'id': 'Din22', 'bit': '5', 'startByte': '2', 'input': '1'}, {'dataType': 'digital', 'id': 'Din23', 'bit': '6', 'startByte': '2', 'input': '1'}, {'dataType': 'digital', 'id': 'Din24', 'bit': '7', 'startByte': '2', 'input': '1'}, {'dataType': 'digital', 'id': 'Din25', 'bit': '0', 'startByte': '2', 'input': '1'}, {'dataType': 'digital', 'id': 'Din26', 'bit': '1', 'startByte': '3', 'input': '1'}, {'dataType': 'digital', 'id': 'Din27', 'bit': '2', 'startByte': '3', 'input': '1'}, {'dataType': 'digital', 'id': 'Din28', 'bit': '3', 'startByte': '3', 'input': '1'}, {'dataType': 'digital', 'id': 'Din29', 'bit': '4', 'startByte': '3', 'input': '1'}, {'dataType': 'digital', 'id': 'Din30', 'bit': '5', 'startByte': '3', 'input': '1'}, {'dataType': 'digital', 'id': 'Din31', 'bit': '6', 'startByte': '3', 'input': '1'}, {'dataType': 'digital', 'id': 'Din32', 'bit': '7', 'startByte': '3', 'input': '1'}, {'dataType': 'digital', 'id': 'Dout1', 'bit': '0', 'startByte': '4', 'input': '0'}, {'dataType': 'digital', 'id': 'Dout2', 'bit': '1', 'startByte': '4', 'input': '0'}, {'dataType': 'digital', 'id': 'Dout3', 'bit': '2', 'startByte': '4', 'input': '0'}, {'dataType': 'digital', 'id': 'Dout4', 'bit': '3', 'startByte': '4', 'input': '0'}, {'dataType': 'digital', 'id': 'Dout5', 'bit': '4', 'startByte': '4', 'input': '0'}, {'dataType': 'digital', 'id': 'Dout6', 'bit': '5', 'startByte': '4', 'input': '0'}, {'dataType': 'digital', 'id': 'Dout7', 'bit': '6', 'startByte': '4', 'input': '0'}, {'dataType': 'digital', 'id': 'Dout8', 'bit': '7', 'startByte': '4', 'input': '0'}, {'dataType': 'digital', 'id': 'Dout9', 'bit': '0', 'startByte': '5', 'input': '0'}, {'dataType': 'digital', 'id': 'Dout10', 'bit': '1', 'startByte': '5', 'input': '0'}, {'dataType': 'digital', 'id': 'Dout11', 'bit': '2', 'startByte': '5', 'input': '0'}, {'dataType': 'digital', 'id': 'Dout12', 'bit': '3', 'startByte': '5', 'input': '0'}, {'dataType': 'digital', 'id': 'Dout13', 'bit': '4', 'startByte': '5', 'input': '0'}, {'dataType': 'digital', 'id': 'Dout14', 'bit': '5', 'startByte': '5', 'input': '0'}, {'dataType': 'digital', 'id': 'Dout15', 'bit': '6', 'startByte': '5', 'input': '0'}, {'dataType': 'digital', 'id': 'Dout16', 'bit': '7', 'startByte': '5', 'input': '0'}, {'dataType': 'digital', 'id': 'Dout17', 'bit': '0', 'startByte': '6', 'input': '0'}, {'dataType': 'digital', 'id': 'Dout18', 'bit': '1', 'startByte': '6', 'input': '0'}, {'dataType': 'digital', 'id': 'Dout19', 'bit': '2', 'startByte': '6', 'input': '0'}, {'dataType': 'digital', 'id': 'Dout20', 'bit': '3', 'startByte': '6', 'input': '0'}, {'dataType': 'digital', 'id': 'Dout21', 'bit': '4', 'startByte': '6', 'input': '0'}, {'dataType': 'digital', 'id': 'Dout22', 'bit': '5', 'startByte': '6', 'input': '0'}, {'dataType': 'digital', 'id': 'Dout23', 'bit': '6', 'startByte': '6', 'input': '0'}, {'dataType': 'digital', 'id': 'Dout24', 'bit': '7', 'startByte': '6', 'input': '0'}, {'dataType': 'digital', 'id': 'Dout25', 'bit': '0', 'startByte': '6', 'input': '0'}, {'dataType': 'digital', 'id': 'Dout26', 'bit': '1', 'startByte': '7', 'input': '0'}, {'dataType': 'digital', 'id': 'Dout27', 'bit': '2', 'startByte': '7', 'input': '0'}, {'dataType': 'digital', 'id': 'Dout28', 'bit': '3', 'startByte': '7', 'input': '0'}, {'dataType': 'digital', 'id': 'Dout29', 'bit': '4', 'startByte': '7', 'input': '0'}, {'dataType': 'digital', 'id': 'Dout30', 'bit': '5', 'startByte': '7', 'input': '0'}, {'dataType': 'digital', 'id': 'Dout31', 'bit': '6', 'startByte': '7', 'input': '0'}, {'dataType': 'digital', 'id': 'Dout32', 'bit': '7', 'startByte': '7', 'input': '0'}, {'dataType': 'analog', 'id': 'Ain1', 'bit': '0', 'startByte': '8', 'input': '0'}, {'dataType': 'analog', 'id': 'Ain2', 'bit': '0', 'startByte': '10', 'input': '0'}, {'dataType': 'analog', 'id': 'Ain3', 'bit': '0', 'startByte': '12', 'input': '0'}, {'dataType': 'analog', 'id': 'Ain4', 'bit': '0', 'startByte': '14', 'input': '0'}, {'dataType': 'analog', 'id': 'Ain5', 'bit': '0', 'startByte': '16', 'input': '0'}, {'dataType': 'analog', 'id': 'Ain6', 'bit': '0', 'startByte': '18', 'input': '0'}, {'dataType': 'analog', 'id': 'Ain7', 'bit': '0', 'startByte': '20', 'input': '0'}, {'dataType': 'analog', 'id': 'Ain8', 'bit': '0', 'startByte': '22', 'input': '0'}, {'dataType': 'analog', 'id': 'Aout1', 'bit': '0', 'startByte': '24', 'input': '0'}, {'dataType': 'analog', 'id': 'Aout2', 'bit': '0', 'startByte': '26', 'input': '0'}, {'dataType': 'analog', 'id': 'Aout3', 'bit': '0', 'startByte': '28', 'input': '0'}, {'dataType': 'analog', 'id': 'Aout4', 'bit': '0', 'startByte': '30', 'input': '0'}]}]\n",
      "ModuleConfiguration\n",
      " - SingleModuleConfiguration: [{'moduleName': './cameraModule', 'sendTrodesConfig': '1', 'sendNetworkInfo': '1', 'Argument': [{'flag': '-camera', 'value': 'usb'}, {'flag': '-resolutionX', 'value': '1280'}, {'flag': '-resolutionY', 'value': '720'}]}, {'moduleName': './stateScript', 'sendTrodesConfig': '1', 'sendNetworkInfo': '1', 'Argument': [{'flag': '-suppressUpdates', 'value': '17'}, {'flag': '-suppressUpdates', 'value': '18'}, {'flag': '-suppressUpdates', 'value': '19'}]}, {'moduleName': './FSGui', 'sendTrodesConfig': '1', 'sendNetworkInfo': '1', 'Argument': [{'flag': '-FSData', 'value': './FSData'}, {'flag': '-config', 'value': '/home/kevin/trodes/Resources/custom/headstage1.2/config128_pyfsgui_state_camera.fsguiconfig'}]}]\n",
      "StreamDisplay\n",
      " - backgroundColor: #0f0f0f\n",
      " - columns: 6\n",
      "AuxDisplayConfiguration\n",
      " - DispChannel: [{'analyze': '0', 'id': 'Din1', 'maxDisp': '2', 'color': '#aaaaaa', 'device': 'ECU'}, {'analyze': '0', 'id': 'Din2', 'maxDisp': '2', 'color': '#aaaaaa', 'device': 'ECU'}, {'analyze': '0', 'id': 'Din3', 'maxDisp': '2', 'color': '#aaaaaa', 'device': 'ECU'}, {'analyze': '0', 'id': 'Din4', 'maxDisp': '2', 'color': '#aaaaaa', 'device': 'ECU'}, {'analyze': '0', 'id': 'Din5', 'maxDisp': '2', 'color': '#aaaaaa', 'device': 'ECU'}, {'analyze': '0', 'id': 'Din6', 'maxDisp': '2', 'color': '#aaaaaa', 'device': 'ECU'}, {'analyze': '0', 'id': 'Din7', 'maxDisp': '2', 'color': '#aaaaaa', 'device': 'ECU'}, {'analyze': '0', 'id': 'Din8', 'maxDisp': '2', 'color': '#aaaaaa', 'device': 'ECU'}, {'analyze': '0', 'id': 'Din9', 'maxDisp': '2', 'color': '#aaaaaa', 'device': 'ECU'}, {'analyze': '0', 'id': 'Din10', 'maxDisp': '2', 'color': '#aaaaaa', 'device': 'ECU'}, {'analyze': '0', 'id': 'Din11', 'maxDisp': '2', 'color': '#aaaaaa', 'device': 'ECU'}, {'analyze': '0', 'id': 'Din12', 'maxDisp': '2', 'color': '#aaaaaa', 'device': 'ECU'}, {'analyze': '0', 'id': 'Din13', 'maxDisp': '2', 'color': '#aaaaaa', 'device': 'ECU'}, {'analyze': '0', 'id': 'Din14', 'maxDisp': '2', 'color': '#aaaaaa', 'device': 'ECU'}, {'analyze': '0', 'id': 'Din15', 'maxDisp': '2', 'color': '#aaaaaa', 'device': 'ECU'}, {'analyze': '0', 'id': 'Din16', 'maxDisp': '2', 'color': '#aaaaaa', 'device': 'ECU'}, {'analyze': '0', 'id': 'Din17', 'maxDisp': '2', 'color': '#aaaaaa', 'device': 'ECU'}, {'analyze': '0', 'id': 'Din18', 'maxDisp': '2', 'color': '#aaaaaa', 'device': 'ECU'}, {'analyze': '0', 'id': 'Din19', 'maxDisp': '2', 'color': '#aaaaaa', 'device': 'ECU'}, {'analyze': '0', 'id': 'Din20', 'maxDisp': '2', 'color': '#aaaaaa', 'device': 'ECU'}, {'analyze': '0', 'id': 'Din21', 'maxDisp': '2', 'color': '#aaaaaa', 'device': 'ECU'}, {'analyze': '0', 'id': 'Dout1', 'maxDisp': '2', 'color': '#aaaaaa', 'device': 'ECU'}, {'analyze': '0', 'id': 'Dout2', 'maxDisp': '2', 'color': '#aaaaaa', 'device': 'ECU'}, {'analyze': '0', 'id': 'Dout3', 'maxDisp': '2', 'color': '#aaaaaa', 'device': 'ECU'}, {'analyze': '0', 'id': 'Dout4', 'maxDisp': '2', 'color': '#aaaaaa', 'device': 'ECU'}, {'analyze': '0', 'id': 'Dout5', 'maxDisp': '2', 'color': '#aaaaaa', 'device': 'ECU'}, {'analyze': '0', 'id': 'Dout6', 'maxDisp': '2', 'color': '#aaaaaa', 'device': 'ECU'}, {'analyze': '0', 'id': 'Dout7', 'maxDisp': '2', 'color': '#aaaaaa', 'device': 'ECU'}, {'analyze': '0', 'id': 'Dout8', 'maxDisp': '2', 'color': '#aaaaaa', 'device': 'ECU'}, {'analyze': '0', 'id': 'Dout9', 'maxDisp': '2', 'color': '#aaaaaa', 'device': 'ECU'}, {'analyze': '0', 'id': 'Dout10', 'maxDisp': '2', 'color': '#aaaaaa', 'device': 'ECU'}, {'analyze': '0', 'id': 'Dout11', 'maxDisp': '2', 'color': '#aaaaaa', 'device': 'ECU'}, {'analyze': '0', 'id': 'Dout12', 'maxDisp': '2', 'color': '#aaaaaa', 'device': 'ECU'}, {'analyze': '0', 'id': 'Dout13', 'maxDisp': '2', 'color': '#aaaaaa', 'device': 'ECU'}, {'analyze': '0', 'id': 'Dout14', 'maxDisp': '2', 'color': '#aaaaaa', 'device': 'ECU'}, {'analyze': '0', 'id': 'Dout15', 'maxDisp': '2', 'color': '#aaaaaa', 'device': 'ECU'}, {'analyze': '0', 'id': 'Dout16', 'maxDisp': '2', 'color': '#aaaaaa', 'device': 'ECU'}, {'analyze': '0', 'id': 'Dout17', 'maxDisp': '2', 'color': '#aaaaaa', 'device': 'ECU'}, {'analyze': '0', 'id': 'Dout18', 'maxDisp': '2', 'color': '#aaaaaa', 'device': 'ECU'}, {'analyze': '0', 'id': 'Dout19', 'maxDisp': '2', 'color': '#aaaaaa', 'device': 'ECU'}, {'analyze': '0', 'id': 'Dout20', 'maxDisp': '2', 'color': '#aaaaaa', 'device': 'ECU'}, {'analyze': '0', 'id': 'Dout21', 'maxDisp': '2', 'color': '#aaaaaa', 'device': 'ECU'}, {'analyze': '0', 'id': 'Ain1', 'maxDisp': '2000', 'color': '#aaffaa', 'device': 'ECU'}, {'analyze': '0', 'id': 'Ain2', 'maxDisp': '2000', 'color': '#aaffaa', 'device': 'ECU'}, {'analyze': '0', 'id': 'Ain3', 'maxDisp': '2000', 'color': '#aaffaa', 'device': 'ECU'}, {'analyze': '0', 'id': 'Ain4', 'maxDisp': '2000', 'color': '#aaffaa', 'device': 'ECU'}, {'analyze': '0', 'id': 'Ain5', 'maxDisp': '2000', 'color': '#aaffaa', 'device': 'ECU'}, {'analyze': '0', 'id': 'Ain6', 'maxDisp': '2000', 'color': '#aaffaa', 'device': 'ECU'}, {'analyze': '0', 'id': 'Ain7', 'maxDisp': '2000', 'color': '#aaffaa', 'device': 'ECU'}, {'analyze': '0', 'id': 'Ain8', 'maxDisp': '2000', 'color': '#aaffaa', 'device': 'ECU'}]\n",
      "SpikeConfiguration\n",
      " - SpikeNTrode: [{'LFPChan': '1', 'LFPHighFilter': '200', 'id': '1', 'color': '#ffc0cb', 'moduleDataOn': '1', 'refOn': '1', 'lowFilter': '300', 'filterOn': '1', 'refChan': '3', 'refNTrode': '4', 'highFilter': '6000', 'SpikeChannel': [{'maxDisp': '500', 'hwChan': '1', 'thresh': '60', 'triggerOn': '1'}, {'maxDisp': '500', 'hwChan': '3', 'thresh': '60', 'triggerOn': '1'}, {'maxDisp': '500', 'hwChan': '5', 'thresh': '60', 'triggerOn': '1'}, {'maxDisp': '500', 'hwChan': '7', 'thresh': '60', 'triggerOn': '1'}]}, {'LFPChan': '1', 'LFPHighFilter': '200', 'id': '2', 'color': '#ff0000', 'moduleDataOn': '1', 'refOn': '1', 'lowFilter': '300', 'filterOn': '1', 'refChan': '3', 'refNTrode': '4', 'highFilter': '6000', 'SpikeChannel': [{'maxDisp': '500', 'hwChan': '0', 'thresh': '60', 'triggerOn': '1'}, {'maxDisp': '500', 'hwChan': '2', 'thresh': '60', 'triggerOn': '1'}, {'maxDisp': '500', 'hwChan': '4', 'thresh': '60', 'triggerOn': '1'}, {'maxDisp': '500', 'hwChan': '6', 'thresh': '60', 'triggerOn': '1'}]}, {'LFPChan': '1', 'LFPHighFilter': '200', 'id': '3', 'color': '#00ffff', 'moduleDataOn': '1', 'refOn': '1', 'lowFilter': '300', 'filterOn': '1', 'refChan': '3', 'refNTrode': '4', 'highFilter': '6000', 'SpikeChannel': [{'maxDisp': '500', 'hwChan': '8', 'thresh': '60', 'triggerOn': '1'}, {'maxDisp': '500', 'hwChan': '10', 'thresh': '60', 'triggerOn': '1'}, {'maxDisp': '500', 'hwChan': '12', 'thresh': '60', 'triggerOn': '1'}, {'maxDisp': '500', 'hwChan': '14', 'thresh': '60', 'triggerOn': '1'}]}, {'LFPChan': '1', 'LFPHighFilter': '200', 'id': '4', 'color': '#d3ffce', 'moduleDataOn': '1', 'refOn': '0', 'lowFilter': '300', 'filterOn': '1', 'refChan': '3', 'refNTrode': '4', 'highFilter': '6000', 'SpikeChannel': [{'maxDisp': '500', 'hwChan': '24', 'thresh': '60', 'triggerOn': '1'}, {'maxDisp': '500', 'hwChan': '26', 'thresh': '60', 'triggerOn': '1'}, {'maxDisp': '500', 'hwChan': '28', 'thresh': '60', 'triggerOn': '1'}, {'maxDisp': '500', 'hwChan': '30', 'thresh': '60', 'triggerOn': '1'}]}, {'LFPChan': '1', 'LFPHighFilter': '200', 'id': '5', 'color': '#ffd700', 'moduleDataOn': '1', 'refOn': '1', 'lowFilter': '300', 'filterOn': '1', 'refChan': '3', 'refNTrode': '4', 'highFilter': '6000', 'SpikeChannel': [{'maxDisp': '500', 'hwChan': '168', 'thresh': '60', 'triggerOn': '1'}, {'maxDisp': '500', 'hwChan': '170', 'thresh': '60', 'triggerOn': '1'}, {'maxDisp': '500', 'hwChan': '172', 'thresh': '60', 'triggerOn': '1'}, {'maxDisp': '500', 'hwChan': '174', 'thresh': '60', 'triggerOn': '1'}]}, {'LFPChan': '1', 'LFPHighFilter': '200', 'id': '6', 'color': '#0000ff', 'moduleDataOn': '1', 'refOn': '1', 'lowFilter': '300', 'filterOn': '1', 'refChan': '3', 'refNTrode': '4', 'highFilter': '6000', 'SpikeChannel': [{'maxDisp': '500', 'hwChan': '184', 'thresh': '60', 'triggerOn': '1'}, {'maxDisp': '500', 'hwChan': '186', 'thresh': '60', 'triggerOn': '1'}, {'maxDisp': '500', 'hwChan': '188', 'thresh': '60', 'triggerOn': '1'}, {'maxDisp': '500', 'hwChan': '190', 'thresh': '60', 'triggerOn': '1'}]}, {'LFPChan': '1', 'LFPHighFilter': '200', 'id': '7', 'color': '#b0e0e6', 'moduleDataOn': '1', 'refOn': '1', 'lowFilter': '300', 'filterOn': '1', 'refChan': '3', 'refNTrode': '4', 'highFilter': '6000', 'SpikeChannel': [{'maxDisp': '500', 'hwChan': '177', 'thresh': '60', 'triggerOn': '1'}, {'maxDisp': '500', 'hwChan': '179', 'thresh': '60', 'triggerOn': '1'}, {'maxDisp': '500', 'hwChan': '181', 'thresh': '60', 'triggerOn': '1'}, {'maxDisp': '500', 'hwChan': '183', 'thresh': '60', 'triggerOn': '1'}]}, {'LFPChan': '1', 'LFPHighFilter': '200', 'id': '8', 'color': '#00ff00', 'moduleDataOn': '1', 'refOn': '1', 'lowFilter': '300', 'filterOn': '1', 'refChan': '3', 'refNTrode': '4', 'highFilter': '6000', 'SpikeChannel': [{'maxDisp': '500', 'hwChan': '169', 'thresh': '60', 'triggerOn': '1'}, {'maxDisp': '500', 'hwChan': '171', 'thresh': '60', 'triggerOn': '1'}, {'maxDisp': '500', 'hwChan': '173', 'thresh': '60', 'triggerOn': '1'}, {'maxDisp': '500', 'hwChan': '175', 'thresh': '60', 'triggerOn': '1'}]}, {'LFPChan': '1', 'LFPHighFilter': '200', 'id': '9', 'color': '#800080', 'moduleDataOn': '1', 'refOn': '1', 'lowFilter': '300', 'filterOn': '1', 'refChan': '3', 'refNTrode': '4', 'highFilter': '6000', 'SpikeChannel': [{'maxDisp': '500', 'hwChan': '161', 'thresh': '60', 'triggerOn': '1'}, {'maxDisp': '500', 'hwChan': '163', 'thresh': '60', 'triggerOn': '1'}, {'maxDisp': '500', 'hwChan': '165', 'thresh': '60', 'triggerOn': '1'}, {'maxDisp': '500', 'hwChan': '167', 'thresh': '60', 'triggerOn': '1'}]}, {'LFPChan': '1', 'LFPHighFilter': '200', 'id': '10', 'color': '#e6e6fa', 'moduleDataOn': '1', 'refOn': '1', 'lowFilter': '300', 'filterOn': '1', 'refChan': '3', 'refNTrode': '14', 'highFilter': '6000', 'SpikeChannel': [{'maxDisp': '500', 'hwChan': '153', 'thresh': '60', 'triggerOn': '1'}, {'maxDisp': '500', 'hwChan': '155', 'thresh': '60', 'triggerOn': '1'}, {'maxDisp': '500', 'hwChan': '157', 'thresh': '60', 'triggerOn': '1'}, {'maxDisp': '500', 'hwChan': '159', 'thresh': '60', 'triggerOn': '1'}]}, {'LFPChan': '1', 'LFPHighFilter': '200', 'id': '11', 'color': '#6dc066', 'moduleDataOn': '1', 'refOn': '1', 'lowFilter': '300', 'filterOn': '1', 'refChan': '3', 'refNTrode': '14', 'highFilter': '6000', 'SpikeChannel': [{'maxDisp': '500', 'hwChan': '145', 'thresh': '60', 'triggerOn': '1'}, {'maxDisp': '500', 'hwChan': '147', 'thresh': '60', 'triggerOn': '1'}, {'maxDisp': '500', 'hwChan': '149', 'thresh': '60', 'triggerOn': '1'}, {'maxDisp': '500', 'hwChan': '151', 'thresh': '60', 'triggerOn': '1'}]}, {'LFPChan': '1', 'LFPHighFilter': '200', 'id': '12', 'color': '#00ced1', 'moduleDataOn': '1', 'refOn': '1', 'lowFilter': '300', 'filterOn': '1', 'refChan': '3', 'refNTrode': '14', 'highFilter': '6000', 'SpikeChannel': [{'maxDisp': '500', 'hwChan': '129', 'thresh': '60', 'triggerOn': '1'}, {'maxDisp': '500', 'hwChan': '131', 'thresh': '60', 'triggerOn': '1'}, {'maxDisp': '500', 'hwChan': '133', 'thresh': '60', 'triggerOn': '1'}, {'maxDisp': '500', 'hwChan': '135', 'thresh': '60', 'triggerOn': '1'}]}, {'LFPChan': '1', 'LFPHighFilter': '200', 'id': '13', 'color': '#ffff00', 'moduleDataOn': '1', 'refOn': '1', 'lowFilter': '300', 'filterOn': '1', 'refChan': '3', 'refNTrode': '14', 'highFilter': '6000', 'SpikeChannel': [{'maxDisp': '500', 'hwChan': '128', 'thresh': '60', 'triggerOn': '1'}, {'maxDisp': '500', 'hwChan': '130', 'thresh': '60', 'triggerOn': '1'}, {'maxDisp': '500', 'hwChan': '132', 'thresh': '60', 'triggerOn': '1'}, {'maxDisp': '500', 'hwChan': '134', 'thresh': '60', 'triggerOn': '1'}]}, {'LFPChan': '1', 'LFPHighFilter': '200', 'id': '14', 'color': '#66cdaa', 'moduleDataOn': '1', 'refOn': '0', 'lowFilter': '300', 'filterOn': '1', 'refChan': '3', 'refNTrode': '14', 'highFilter': '6000', 'SpikeChannel': [{'maxDisp': '350', 'hwChan': '144', 'thresh': '60', 'triggerOn': '1'}, {'maxDisp': '350', 'hwChan': '146', 'thresh': '60', 'triggerOn': '1'}, {'maxDisp': '350', 'hwChan': '148', 'thresh': '60', 'triggerOn': '1'}, {'maxDisp': '350', 'hwChan': '150', 'thresh': '60', 'triggerOn': '1'}]}, {'LFPChan': '1', 'LFPHighFilter': '200', 'id': '15', 'color': '#ff6666', 'moduleDataOn': '1', 'refOn': '1', 'lowFilter': '300', 'filterOn': '1', 'refChan': '3', 'refNTrode': '14', 'highFilter': '6000', 'SpikeChannel': [{'maxDisp': '500', 'hwChan': '152', 'thresh': '60', 'triggerOn': '1'}, {'maxDisp': '500', 'hwChan': '154', 'thresh': '60', 'triggerOn': '1'}, {'maxDisp': '500', 'hwChan': '156', 'thresh': '60', 'triggerOn': '1'}, {'maxDisp': '500', 'hwChan': '158', 'thresh': '60', 'triggerOn': '1'}]}, {'LFPChan': '1', 'LFPHighFilter': '200', 'id': '16', 'color': '#ff7f50', 'moduleDataOn': '1', 'refOn': '1', 'lowFilter': '300', 'filterOn': '1', 'refChan': '3', 'refNTrode': '14', 'highFilter': '6000', 'SpikeChannel': [{'maxDisp': '500', 'hwChan': '40', 'thresh': '60', 'triggerOn': '1'}, {'maxDisp': '500', 'hwChan': '42', 'thresh': '60', 'triggerOn': '1'}, {'maxDisp': '500', 'hwChan': '44', 'thresh': '60', 'triggerOn': '1'}, {'maxDisp': '500', 'hwChan': '46', 'thresh': '60', 'triggerOn': '1'}]}, {'LFPChan': '1', 'LFPHighFilter': '200', 'id': '17', 'color': '#8a2be2', 'moduleDataOn': '1', 'refOn': '1', 'lowFilter': '300', 'filterOn': '1', 'refChan': '3', 'refNTrode': '14', 'highFilter': '6000', 'SpikeChannel': [{'maxDisp': '500', 'hwChan': '48', 'thresh': '60', 'triggerOn': '1'}, {'maxDisp': '500', 'hwChan': '50', 'thresh': '60', 'triggerOn': '1'}, {'maxDisp': '500', 'hwChan': '52', 'thresh': '60', 'triggerOn': '1'}, {'maxDisp': '500', 'hwChan': '54', 'thresh': '60', 'triggerOn': '1'}]}, {'LFPChan': '1', 'LFPHighFilter': '200', 'id': '18', 'color': '#3399ff', 'moduleDataOn': '1', 'refOn': '1', 'lowFilter': '300', 'filterOn': '1', 'refChan': '3', 'refNTrode': '14', 'highFilter': '6000', 'SpikeChannel': [{'maxDisp': '500', 'hwChan': '56', 'thresh': '60', 'triggerOn': '1'}, {'maxDisp': '500', 'hwChan': '58', 'thresh': '60', 'triggerOn': '1'}, {'maxDisp': '500', 'hwChan': '60', 'thresh': '60', 'triggerOn': '1'}, {'maxDisp': '500', 'hwChan': '62', 'thresh': '60', 'triggerOn': '1'}]}, {'LFPChan': '1', 'LFPHighFilter': '200', 'id': '19', 'color': '#faebd7', 'moduleDataOn': '1', 'refOn': '1', 'lowFilter': '300', 'filterOn': '1', 'refChan': '3', 'refNTrode': '14', 'highFilter': '6000', 'SpikeChannel': [{'maxDisp': '500', 'hwChan': '57', 'thresh': '60', 'triggerOn': '1'}, {'maxDisp': '500', 'hwChan': '59', 'thresh': '60', 'triggerOn': '1'}, {'maxDisp': '500', 'hwChan': '61', 'thresh': '60', 'triggerOn': '1'}, {'maxDisp': '500', 'hwChan': '63', 'thresh': '60', 'triggerOn': '1'}]}, {'LFPChan': '1', 'LFPHighFilter': '200', 'id': '20', 'color': '#246eb9', 'moduleDataOn': '1', 'refOn': '1', 'lowFilter': '300', 'filterOn': '1', 'refChan': '14', 'refNTrode': '20', 'highFilter': '6000', 'SpikeChannel': [{'maxDisp': '250', 'hwChan': '64', 'thresh': '60', 'triggerOn': '1'}, {'maxDisp': '250', 'hwChan': '65', 'thresh': '60', 'triggerOn': '1'}, {'maxDisp': '250', 'hwChan': '66', 'thresh': '60', 'triggerOn': '1'}, {'maxDisp': '250', 'hwChan': '67', 'thresh': '60', 'triggerOn': '1'}, {'maxDisp': '250', 'hwChan': '68', 'thresh': '60', 'triggerOn': '1'}, {'maxDisp': '250', 'hwChan': '69', 'thresh': '60', 'triggerOn': '1'}, {'maxDisp': '250', 'hwChan': '70', 'thresh': '60', 'triggerOn': '1'}, {'maxDisp': '250', 'hwChan': '71', 'thresh': '60', 'triggerOn': '1'}, {'maxDisp': '250', 'hwChan': '72', 'thresh': '60', 'triggerOn': '1'}, {'maxDisp': '250', 'hwChan': '73', 'thresh': '60', 'triggerOn': '1'}, {'maxDisp': '250', 'hwChan': '74', 'thresh': '60', 'triggerOn': '1'}, {'maxDisp': '250', 'hwChan': '75', 'thresh': '60', 'triggerOn': '1'}, {'maxDisp': '250', 'hwChan': '76', 'thresh': '60', 'triggerOn': '1'}, {'maxDisp': '250', 'hwChan': '77', 'thresh': '60', 'triggerOn': '1'}, {'maxDisp': '250', 'hwChan': '78', 'thresh': '60', 'triggerOn': '1'}, {'maxDisp': '250', 'hwChan': '79', 'thresh': '60', 'triggerOn': '1'}]}, {'LFPChan': '1', 'LFPHighFilter': '200', 'id': '21', 'color': '#4cb944', 'moduleDataOn': '1', 'refOn': '1', 'lowFilter': '300', 'filterOn': '1', 'refChan': '11', 'refNTrode': '21', 'highFilter': '6000', 'SpikeChannel': [{'maxDisp': '350', 'hwChan': '80', 'thresh': '60', 'triggerOn': '1'}, {'maxDisp': '350', 'hwChan': '81', 'thresh': '60', 'triggerOn': '1'}, {'maxDisp': '350', 'hwChan': '82', 'thresh': '60', 'triggerOn': '1'}, {'maxDisp': '350', 'hwChan': '83', 'thresh': '60', 'triggerOn': '1'}, {'maxDisp': '350', 'hwChan': '84', 'thresh': '60', 'triggerOn': '1'}, {'maxDisp': '350', 'hwChan': '85', 'thresh': '60', 'triggerOn': '1'}, {'maxDisp': '350', 'hwChan': '86', 'thresh': '60', 'triggerOn': '1'}, {'maxDisp': '350', 'hwChan': '87', 'thresh': '60', 'triggerOn': '1'}, {'maxDisp': '350', 'hwChan': '88', 'thresh': '60', 'triggerOn': '1'}, {'maxDisp': '350', 'hwChan': '89', 'thresh': '60', 'triggerOn': '1'}, {'maxDisp': '350', 'hwChan': '90', 'thresh': '60', 'triggerOn': '1'}, {'maxDisp': '350', 'hwChan': '91', 'thresh': '60', 'triggerOn': '1'}, {'maxDisp': '350', 'hwChan': '92', 'thresh': '60', 'triggerOn': '1'}, {'maxDisp': '350', 'hwChan': '93', 'thresh': '60', 'triggerOn': '1'}, {'maxDisp': '350', 'hwChan': '94', 'thresh': '60', 'triggerOn': '1'}, {'maxDisp': '350', 'hwChan': '95', 'thresh': '60', 'triggerOn': '1'}]}, {'LFPChan': '1', 'LFPHighFilter': '200', 'id': '22', 'color': '#f5ee9e', 'moduleDataOn': '1', 'refOn': '1', 'lowFilter': '300', 'filterOn': '1', 'refChan': '16', 'refNTrode': '22', 'highFilter': '6000', 'SpikeChannel': [{'maxDisp': '450', 'hwChan': '96', 'thresh': '60', 'triggerOn': '1'}, {'maxDisp': '450', 'hwChan': '97', 'thresh': '60', 'triggerOn': '1'}, {'maxDisp': '450', 'hwChan': '98', 'thresh': '60', 'triggerOn': '1'}, {'maxDisp': '450', 'hwChan': '99', 'thresh': '60', 'triggerOn': '1'}, {'maxDisp': '450', 'hwChan': '100', 'thresh': '60', 'triggerOn': '1'}, {'maxDisp': '450', 'hwChan': '101', 'thresh': '60', 'triggerOn': '1'}, {'maxDisp': '450', 'hwChan': '102', 'thresh': '60', 'triggerOn': '1'}, {'maxDisp': '450', 'hwChan': '103', 'thresh': '60', 'triggerOn': '1'}, {'maxDisp': '450', 'hwChan': '104', 'thresh': '60', 'triggerOn': '1'}, {'maxDisp': '450', 'hwChan': '105', 'thresh': '60', 'triggerOn': '1'}, {'maxDisp': '450', 'hwChan': '106', 'thresh': '60', 'triggerOn': '1'}, {'maxDisp': '450', 'hwChan': '107', 'thresh': '60', 'triggerOn': '1'}, {'maxDisp': '450', 'hwChan': '108', 'thresh': '60', 'triggerOn': '1'}, {'maxDisp': '450', 'hwChan': '109', 'thresh': '60', 'triggerOn': '1'}, {'maxDisp': '450', 'hwChan': '110', 'thresh': '60', 'triggerOn': '1'}, {'maxDisp': '450', 'hwChan': '111', 'thresh': '60', 'triggerOn': '1'}]}, {'LFPChan': '1', 'LFPHighFilter': '200', 'id': '23', 'color': '#f06543', 'moduleDataOn': '1', 'refOn': '1', 'lowFilter': '300', 'filterOn': '1', 'refChan': '16', 'refNTrode': '23', 'highFilter': '6000', 'SpikeChannel': [{'maxDisp': '450', 'hwChan': '112', 'thresh': '60', 'triggerOn': '1'}, {'maxDisp': '450', 'hwChan': '113', 'thresh': '60', 'triggerOn': '1'}, {'maxDisp': '450', 'hwChan': '114', 'thresh': '60', 'triggerOn': '1'}, {'maxDisp': '450', 'hwChan': '115', 'thresh': '60', 'triggerOn': '1'}, {'maxDisp': '450', 'hwChan': '116', 'thresh': '60', 'triggerOn': '1'}, {'maxDisp': '450', 'hwChan': '117', 'thresh': '60', 'triggerOn': '1'}, {'maxDisp': '450', 'hwChan': '118', 'thresh': '60', 'triggerOn': '1'}, {'maxDisp': '450', 'hwChan': '119', 'thresh': '60', 'triggerOn': '1'}, {'maxDisp': '450', 'hwChan': '120', 'thresh': '60', 'triggerOn': '1'}, {'maxDisp': '450', 'hwChan': '121', 'thresh': '60', 'triggerOn': '1'}, {'maxDisp': '450', 'hwChan': '122', 'thresh': '60', 'triggerOn': '1'}, {'maxDisp': '450', 'hwChan': '123', 'thresh': '60', 'triggerOn': '1'}, {'maxDisp': '450', 'hwChan': '124', 'thresh': '60', 'triggerOn': '1'}, {'maxDisp': '450', 'hwChan': '125', 'thresh': '60', 'triggerOn': '1'}, {'maxDisp': '450', 'hwChan': '126', 'thresh': '60', 'triggerOn': '1'}, {'maxDisp': '450', 'hwChan': '127', 'thresh': '60', 'triggerOn': '1'}]}, {'LFPChan': '1', 'LFPHighFilter': '200', 'id': '24', 'color': '#bf4e30', 'moduleDataOn': '1', 'refOn': '1', 'lowFilter': '300', 'filterOn': '1', 'refChan': '16', 'refNTrode': '24', 'highFilter': '6000', 'SpikeChannel': [{'maxDisp': '250', 'hwChan': '192', 'thresh': '60', 'triggerOn': '1'}, {'maxDisp': '250', 'hwChan': '193', 'thresh': '60', 'triggerOn': '1'}, {'maxDisp': '250', 'hwChan': '194', 'thresh': '60', 'triggerOn': '1'}, {'maxDisp': '250', 'hwChan': '195', 'thresh': '60', 'triggerOn': '1'}, {'maxDisp': '250', 'hwChan': '196', 'thresh': '60', 'triggerOn': '1'}, {'maxDisp': '250', 'hwChan': '197', 'thresh': '60', 'triggerOn': '1'}, {'maxDisp': '250', 'hwChan': '198', 'thresh': '60', 'triggerOn': '1'}, {'maxDisp': '250', 'hwChan': '199', 'thresh': '60', 'triggerOn': '1'}, {'maxDisp': '250', 'hwChan': '200', 'thresh': '60', 'triggerOn': '1'}, {'maxDisp': '250', 'hwChan': '201', 'thresh': '60', 'triggerOn': '1'}, {'maxDisp': '250', 'hwChan': '202', 'thresh': '60', 'triggerOn': '1'}, {'maxDisp': '250', 'hwChan': '203', 'thresh': '60', 'triggerOn': '1'}, {'maxDisp': '250', 'hwChan': '204', 'thresh': '60', 'triggerOn': '1'}, {'maxDisp': '250', 'hwChan': '205', 'thresh': '60', 'triggerOn': '1'}, {'maxDisp': '250', 'hwChan': '206', 'thresh': '60', 'triggerOn': '1'}, {'maxDisp': '250', 'hwChan': '207', 'thresh': '60', 'triggerOn': '1'}]}, {'LFPChan': '1', 'LFPHighFilter': '200', 'id': '25', 'color': '#c6ccb2', 'moduleDataOn': '1', 'refOn': '1', 'lowFilter': '300', 'filterOn': '1', 'refChan': '16', 'refNTrode': '25', 'highFilter': '6000', 'SpikeChannel': [{'maxDisp': '300', 'hwChan': '208', 'thresh': '60', 'triggerOn': '1'}, {'maxDisp': '300', 'hwChan': '209', 'thresh': '60', 'triggerOn': '1'}, {'maxDisp': '300', 'hwChan': '210', 'thresh': '60', 'triggerOn': '1'}, {'maxDisp': '300', 'hwChan': '211', 'thresh': '60', 'triggerOn': '1'}, {'maxDisp': '300', 'hwChan': '212', 'thresh': '60', 'triggerOn': '1'}, {'maxDisp': '300', 'hwChan': '213', 'thresh': '60', 'triggerOn': '1'}, {'maxDisp': '300', 'hwChan': '214', 'thresh': '60', 'triggerOn': '1'}, {'maxDisp': '300', 'hwChan': '215', 'thresh': '60', 'triggerOn': '1'}, {'maxDisp': '300', 'hwChan': '216', 'thresh': '60', 'triggerOn': '1'}, {'maxDisp': '300', 'hwChan': '217', 'thresh': '60', 'triggerOn': '1'}, {'maxDisp': '300', 'hwChan': '218', 'thresh': '60', 'triggerOn': '1'}, {'maxDisp': '300', 'hwChan': '219', 'thresh': '60', 'triggerOn': '1'}, {'maxDisp': '300', 'hwChan': '220', 'thresh': '60', 'triggerOn': '1'}, {'maxDisp': '300', 'hwChan': '221', 'thresh': '60', 'triggerOn': '1'}, {'maxDisp': '300', 'hwChan': '222', 'thresh': '60', 'triggerOn': '1'}, {'maxDisp': '300', 'hwChan': '223', 'thresh': '60', 'triggerOn': '1'}]}, {'LFPChan': '1', 'LFPHighFilter': '200', 'id': '26', 'color': '#e5eafa', 'moduleDataOn': '1', 'refOn': '1', 'lowFilter': '300', 'filterOn': '1', 'refChan': '16', 'refNTrode': '26', 'highFilter': '6000', 'SpikeChannel': [{'maxDisp': '375', 'hwChan': '224', 'thresh': '50', 'triggerOn': '1'}, {'maxDisp': '375', 'hwChan': '225', 'thresh': '50', 'triggerOn': '1'}, {'maxDisp': '375', 'hwChan': '226', 'thresh': '50', 'triggerOn': '1'}, {'maxDisp': '375', 'hwChan': '227', 'thresh': '50', 'triggerOn': '1'}, {'maxDisp': '375', 'hwChan': '228', 'thresh': '50', 'triggerOn': '1'}, {'maxDisp': '375', 'hwChan': '229', 'thresh': '50', 'triggerOn': '1'}, {'maxDisp': '375', 'hwChan': '230', 'thresh': '50', 'triggerOn': '1'}, {'maxDisp': '375', 'hwChan': '231', 'thresh': '50', 'triggerOn': '1'}, {'maxDisp': '375', 'hwChan': '232', 'thresh': '50', 'triggerOn': '1'}, {'maxDisp': '375', 'hwChan': '233', 'thresh': '50', 'triggerOn': '1'}, {'maxDisp': '375', 'hwChan': '234', 'thresh': '50', 'triggerOn': '1'}, {'maxDisp': '375', 'hwChan': '235', 'thresh': '50', 'triggerOn': '1'}, {'maxDisp': '375', 'hwChan': '236', 'thresh': '50', 'triggerOn': '1'}, {'maxDisp': '375', 'hwChan': '237', 'thresh': '50', 'triggerOn': '1'}, {'maxDisp': '375', 'hwChan': '238', 'thresh': '50', 'triggerOn': '1'}, {'maxDisp': '375', 'hwChan': '239', 'thresh': '50', 'triggerOn': '1'}]}, {'LFPChan': '1', 'LFPHighFilter': '200', 'id': '27', 'color': '#5adbff', 'moduleDataOn': '1', 'refOn': '1', 'lowFilter': '300', 'filterOn': '1', 'refChan': '16', 'refNTrode': '27', 'highFilter': '6000', 'SpikeChannel': [{'maxDisp': '350', 'hwChan': '240', 'thresh': '50', 'triggerOn': '1'}, {'maxDisp': '350', 'hwChan': '241', 'thresh': '50', 'triggerOn': '1'}, {'maxDisp': '350', 'hwChan': '242', 'thresh': '50', 'triggerOn': '1'}, {'maxDisp': '350', 'hwChan': '243', 'thresh': '50', 'triggerOn': '1'}, {'maxDisp': '350', 'hwChan': '244', 'thresh': '50', 'triggerOn': '1'}, {'maxDisp': '350', 'hwChan': '245', 'thresh': '50', 'triggerOn': '1'}, {'maxDisp': '350', 'hwChan': '246', 'thresh': '50', 'triggerOn': '1'}, {'maxDisp': '350', 'hwChan': '247', 'thresh': '50', 'triggerOn': '1'}, {'maxDisp': '350', 'hwChan': '248', 'thresh': '50', 'triggerOn': '1'}, {'maxDisp': '350', 'hwChan': '249', 'thresh': '50', 'triggerOn': '1'}, {'maxDisp': '350', 'hwChan': '250', 'thresh': '50', 'triggerOn': '1'}, {'maxDisp': '350', 'hwChan': '251', 'thresh': '50', 'triggerOn': '1'}, {'maxDisp': '350', 'hwChan': '252', 'thresh': '50', 'triggerOn': '1'}, {'maxDisp': '350', 'hwChan': '253', 'thresh': '50', 'triggerOn': '1'}, {'maxDisp': '350', 'hwChan': '254', 'thresh': '50', 'triggerOn': '1'}, {'maxDisp': '350', 'hwChan': '255', 'thresh': '50', 'triggerOn': '1'}]}, {'LFPChan': '1', 'LFPHighFilter': '200', 'id': '28', 'color': '#91a6ff', 'moduleDataOn': '1', 'refOn': '1', 'lowFilter': '300', 'filterOn': '1', 'refChan': '9', 'refNTrode': '28', 'highFilter': '6000', 'SpikeChannel': [{'maxDisp': '300', 'hwChan': '256', 'thresh': '60', 'triggerOn': '1'}, {'maxDisp': '300', 'hwChan': '257', 'thresh': '60', 'triggerOn': '1'}, {'maxDisp': '300', 'hwChan': '258', 'thresh': '60', 'triggerOn': '1'}, {'maxDisp': '300', 'hwChan': '259', 'thresh': '60', 'triggerOn': '1'}, {'maxDisp': '300', 'hwChan': '260', 'thresh': '60', 'triggerOn': '1'}, {'maxDisp': '300', 'hwChan': '261', 'thresh': '60', 'triggerOn': '1'}, {'maxDisp': '300', 'hwChan': '262', 'thresh': '60', 'triggerOn': '1'}, {'maxDisp': '300', 'hwChan': '263', 'thresh': '60', 'triggerOn': '1'}, {'maxDisp': '300', 'hwChan': '264', 'thresh': '60', 'triggerOn': '1'}, {'maxDisp': '300', 'hwChan': '265', 'thresh': '60', 'triggerOn': '1'}, {'maxDisp': '300', 'hwChan': '266', 'thresh': '60', 'triggerOn': '1'}, {'maxDisp': '300', 'hwChan': '267', 'thresh': '60', 'triggerOn': '1'}, {'maxDisp': '300', 'hwChan': '268', 'thresh': '60', 'triggerOn': '1'}, {'maxDisp': '300', 'hwChan': '269', 'thresh': '60', 'triggerOn': '1'}, {'maxDisp': '300', 'hwChan': '270', 'thresh': '60', 'triggerOn': '1'}, {'maxDisp': '300', 'hwChan': '271', 'thresh': '60', 'triggerOn': '1'}]}, {'LFPChan': '1', 'LFPHighFilter': '200', 'id': '29', 'color': '#ff88dc', 'moduleDataOn': '1', 'refOn': '0', 'lowFilter': '300', 'filterOn': '1', 'refChan': '2', 'refNTrode': '29', 'highFilter': '6000', 'SpikeChannel': [{'maxDisp': '325', 'hwChan': '272', 'thresh': '60', 'triggerOn': '1'}, {'maxDisp': '325', 'hwChan': '273', 'thresh': '60', 'triggerOn': '1'}, {'maxDisp': '325', 'hwChan': '274', 'thresh': '60', 'triggerOn': '1'}, {'maxDisp': '325', 'hwChan': '275', 'thresh': '60', 'triggerOn': '1'}, {'maxDisp': '325', 'hwChan': '276', 'thresh': '60', 'triggerOn': '1'}, {'maxDisp': '325', 'hwChan': '277', 'thresh': '60', 'triggerOn': '1'}, {'maxDisp': '325', 'hwChan': '278', 'thresh': '60', 'triggerOn': '1'}, {'maxDisp': '325', 'hwChan': '279', 'thresh': '60', 'triggerOn': '1'}, {'maxDisp': '325', 'hwChan': '280', 'thresh': '60', 'triggerOn': '1'}, {'maxDisp': '325', 'hwChan': '281', 'thresh': '60', 'triggerOn': '1'}, {'maxDisp': '325', 'hwChan': '282', 'thresh': '60', 'triggerOn': '1'}, {'maxDisp': '325', 'hwChan': '283', 'thresh': '60', 'triggerOn': '1'}, {'maxDisp': '325', 'hwChan': '284', 'thresh': '60', 'triggerOn': '1'}, {'maxDisp': '325', 'hwChan': '285', 'thresh': '60', 'triggerOn': '1'}, {'maxDisp': '325', 'hwChan': '286', 'thresh': '60', 'triggerOn': '1'}, {'maxDisp': '325', 'hwChan': '287', 'thresh': '60', 'triggerOn': '1'}]}, {'LFPChan': '1', 'LFPHighFilter': '200', 'id': '30', 'color': '#faff7f', 'moduleDataOn': '1', 'refOn': '1', 'lowFilter': '300', 'filterOn': '1', 'refChan': '16', 'refNTrode': '30', 'highFilter': '6000', 'SpikeChannel': [{'maxDisp': '225', 'hwChan': '288', 'thresh': '50', 'triggerOn': '1'}, {'maxDisp': '225', 'hwChan': '289', 'thresh': '50', 'triggerOn': '1'}, {'maxDisp': '225', 'hwChan': '290', 'thresh': '50', 'triggerOn': '1'}, {'maxDisp': '225', 'hwChan': '291', 'thresh': '50', 'triggerOn': '1'}, {'maxDisp': '225', 'hwChan': '292', 'thresh': '50', 'triggerOn': '1'}, {'maxDisp': '225', 'hwChan': '293', 'thresh': '50', 'triggerOn': '1'}, {'maxDisp': '225', 'hwChan': '294', 'thresh': '50', 'triggerOn': '1'}, {'maxDisp': '225', 'hwChan': '295', 'thresh': '50', 'triggerOn': '1'}, {'maxDisp': '225', 'hwChan': '296', 'thresh': '50', 'triggerOn': '1'}, {'maxDisp': '225', 'hwChan': '297', 'thresh': '50', 'triggerOn': '1'}, {'maxDisp': '225', 'hwChan': '298', 'thresh': '50', 'triggerOn': '1'}, {'maxDisp': '225', 'hwChan': '299', 'thresh': '50', 'triggerOn': '1'}, {'maxDisp': '225', 'hwChan': '300', 'thresh': '50', 'triggerOn': '1'}, {'maxDisp': '225', 'hwChan': '301', 'thresh': '50', 'triggerOn': '1'}, {'maxDisp': '225', 'hwChan': '302', 'thresh': '50', 'triggerOn': '1'}, {'maxDisp': '225', 'hwChan': '303', 'thresh': '50', 'triggerOn': '1'}]}, {'LFPChan': '1', 'LFPHighFilter': '200', 'id': '31', 'color': '#ff5154', 'moduleDataOn': '1', 'refOn': '1', 'lowFilter': '300', 'filterOn': '1', 'refChan': '16', 'refNTrode': '31', 'highFilter': '6000', 'SpikeChannel': [{'maxDisp': '275', 'hwChan': '304', 'thresh': '60', 'triggerOn': '1'}, {'maxDisp': '275', 'hwChan': '305', 'thresh': '60', 'triggerOn': '1'}, {'maxDisp': '275', 'hwChan': '306', 'thresh': '60', 'triggerOn': '1'}, {'maxDisp': '275', 'hwChan': '307', 'thresh': '60', 'triggerOn': '1'}, {'maxDisp': '275', 'hwChan': '308', 'thresh': '60', 'triggerOn': '1'}, {'maxDisp': '275', 'hwChan': '309', 'thresh': '60', 'triggerOn': '1'}, {'maxDisp': '275', 'hwChan': '310', 'thresh': '60', 'triggerOn': '1'}, {'maxDisp': '275', 'hwChan': '311', 'thresh': '60', 'triggerOn': '1'}, {'maxDisp': '275', 'hwChan': '312', 'thresh': '60', 'triggerOn': '1'}, {'maxDisp': '275', 'hwChan': '313', 'thresh': '60', 'triggerOn': '1'}, {'maxDisp': '275', 'hwChan': '314', 'thresh': '60', 'triggerOn': '1'}, {'maxDisp': '275', 'hwChan': '315', 'thresh': '60', 'triggerOn': '1'}, {'maxDisp': '275', 'hwChan': '316', 'thresh': '60', 'triggerOn': '1'}, {'maxDisp': '275', 'hwChan': '317', 'thresh': '60', 'triggerOn': '1'}, {'maxDisp': '275', 'hwChan': '318', 'thresh': '60', 'triggerOn': '1'}, {'maxDisp': '275', 'hwChan': '319', 'thresh': '60', 'triggerOn': '1'}]}, {'LFPChan': '1', 'LFPHighFilter': '200', 'id': '31', 'color': '#0000ff', 'moduleDataOn': '1', 'refOn': '1', 'lowFilter': '300', 'filterOn': '1', 'refChan': '1', 'refNTrode': '1', 'highFilter': '6000'}]\n"
     ]
    }
   ],
   "source": [
    "for key in data['Configuration']:\n",
    "    print(key)\n",
    "    value = data['Configuration'][key]\n",
    "    if not isinstance(value, dict):\n",
    "        continue\n",
    "    for k, v in value.items():\n",
    "        print(' - {}: {}'.format(k, v))"
   ]
  },
  {
   "cell_type": "code",
   "execution_count": 57,
   "metadata": {},
   "outputs": [],
   "source": [
    "write_yml('test-xml-to.yml', data)"
   ]
  },
  {
   "cell_type": "code",
   "execution_count": 70,
   "metadata": {},
   "outputs": [
    {
     "name": "stdout",
     "output_type": "stream",
     "text": [
      "Configuration:\r\n",
      "  AuxDisplayConfiguration:\r\n",
      "    DispChannel:\r\n",
      "    - analyze: '0'\r\n",
      "      color: '#aaaaaa'\r\n",
      "      device: ECU\r\n",
      "      id: Din1\r\n",
      "      maxDisp: '2'\r\n",
      "    - analyze: '0'\r\n",
      "      color: '#aaaaaa'\r\n",
      "      device: ECU\r\n",
      "      id: Din2\r\n",
      "      maxDisp: '2'\r\n",
      "    - analyze: '0'\r\n",
      "      color: '#aaaaaa'\r\n",
      "      device: ECU\r\n",
      "      id: Din3\r\n",
      "      maxDisp: '2'\r\n",
      "    - analyze: '0'\r\n",
      "      color: '#aaaaaa'\r\n",
      "      device: ECU\r\n",
      "      id: Din4\r\n",
      "      maxDisp: '2'\r\n",
      "    - analyze: '0'\r\n",
      "      color: '#aaaaaa'\r\n",
      "      device: ECU\r\n",
      "      id: Din5\r\n",
      "      maxDisp: '2'\r\n",
      "    - analyze: '0'\r\n",
      "      color: '#aaaaaa'\r\n",
      "      device: ECU\r\n",
      "      id: Din6\r\n",
      "      maxDisp: '2'\r\n",
      "    - analyze: '0'\r\n",
      "      color: '#aaaaaa'\r\n",
      "      device: ECU\r\n",
      "      id: Din7\r\n",
      "      maxDisp: '2'\r\n",
      "    - analyze: '0'\r\n",
      "      color: '#aaaaaa'\r\n",
      "      device: ECU\r\n",
      "      id: Din8\r\n",
      "      maxDisp: '2'\r\n",
      "    - analyze: '0'\r\n",
      "      color: '#aaaaaa'\r\n",
      "      device: ECU\r\n",
      "      id: Din9\r\n",
      "      maxDisp: '2'\r\n",
      "    - analyze: '0'\r\n",
      "      color: '#aaaaaa'\r\n"
     ]
    }
   ],
   "source": [
    "!head test-xml-to.yml --lines=50"
   ]
  },
  {
   "cell_type": "code",
   "execution_count": null,
   "metadata": {},
   "outputs": [],
   "source": []
  },
  {
   "cell_type": "markdown",
   "metadata": {},
   "source": [
    "## metadata.yml file"
   ]
  },
  {
   "cell_type": "code",
   "execution_count": 36,
   "metadata": {},
   "outputs": [],
   "source": [
    "import yaml\n",
    "\n",
    "def write_yml(yml_path, data):\n",
    "    with io.open(yml_path, 'w') as fh:\n",
    "        yaml.dump(data, fh, default_flow_style=False)\n",
    "        \n",
    "def read_yml(yml_path):\n",
    "    with io.open(yml_path) as fh:\n",
    "        data = yaml.load(fh, Loader=yaml.FullLoader)\n",
    "    return data"
   ]
  },
  {
   "cell_type": "code",
   "execution_count": 32,
   "metadata": {},
   "outputs": [],
   "source": [
    "data = dict(\n",
    "    A = 'a',\n",
    "    B = dict(\n",
    "        C = ['c1', 'c2', 'c3'],\n",
    "        D = 'd',\n",
    "        E = 'e',\n",
    "    )\n",
    ")\n",
    "\n",
    "write_yml('test.yml', data)"
   ]
  },
  {
   "cell_type": "code",
   "execution_count": 71,
   "metadata": {},
   "outputs": [
    {
     "name": "stdout",
     "output_type": "stream",
     "text": [
      "A: a\r\n",
      "B:\r\n",
      "  C:\r\n",
      "  - c1\r\n",
      "  - c2\r\n",
      "  - c3\r\n",
      "  D: d\r\n",
      "  E: e\r\n"
     ]
    }
   ],
   "source": [
    "!head test.yml"
   ]
  },
  {
   "cell_type": "code",
   "execution_count": 37,
   "metadata": {},
   "outputs": [
    {
     "data": {
      "text/plain": [
       "{'A': 'a', 'B': {'C': ['c1', 'c2', 'c3'], 'D': 'd', 'E': 'e'}}"
      ]
     },
     "execution_count": 37,
     "metadata": {},
     "output_type": "execute_result"
    }
   ],
   "source": [
    "read_yml('test.yml')"
   ]
  },
  {
   "cell_type": "code",
   "execution_count": null,
   "metadata": {},
   "outputs": [],
   "source": []
  },
  {
   "cell_type": "code",
   "execution_count": 79,
   "metadata": {},
   "outputs": [
    {
     "name": "stdout",
     "output_type": "stream",
     "text": [
      "[../yaml/beans20190718_metadata.yml]\n",
      "- experimenter name\n",
      "- lab\n",
      "- institution\n",
      "- experiment description\n",
      "- session description\n",
      "- session_id\n",
      "- subject\n",
      "  - description\n",
      "  - genotype\n",
      "  - sex\n",
      "  - species\n",
      "  - subject id\n",
      "  - weight\n",
      "- data acq device\n",
      "- associated_files\n",
      "- device\n",
      "  - name\n",
      "- units\n",
      "  - analog\n",
      "  - behavioral_events\n",
      "- times_period_multiplier\n",
      "- raw_data_to_volts\n",
      "- default_header_file_path\n",
      "- cameras\n",
      "- tasks\n",
      "- associated_video_files\n",
      "- behavioral_events\n",
      "- electrode groups\n",
      "- ntrode electrode group channel map\n"
     ]
    }
   ],
   "source": [
    "yml_filename = '../yaml/beans20190718_metadata.yml'\n",
    "print('[{}]'.format(yml_filename))\n",
    "beans_meta = read_yml(yml_filename) \n",
    "show_keys(beans_meta)"
   ]
  },
  {
   "cell_type": "code",
   "execution_count": 80,
   "metadata": {},
   "outputs": [
    {
     "name": "stdout",
     "output_type": "stream",
     "text": [
      "[../yaml/kibbles20170216_metadata.yml]\n",
      "- experimenter name\n",
      "- lab\n",
      "- institution\n",
      "- experiment description\n",
      "- session description\n",
      "- session_id\n",
      "- subject\n",
      "  - description\n",
      "  - genotype\n",
      "  - sex\n",
      "  - species\n",
      "  - subject id\n",
      "  - weight\n",
      "- data acq device\n",
      "- associated_files\n",
      "- units\n",
      "  - analog\n",
      "  - behavioral_events\n",
      "- times_period_multiplier\n",
      "- cameras\n",
      "- tasks\n",
      "- associated_video_files\n",
      "- behavioral_events\n",
      "- device\n",
      "  - name\n",
      "- electrode groups\n",
      "- ntrode electrode group channel map\n"
     ]
    }
   ],
   "source": [
    "yml_filename = '../yaml/kibbles20170216_metadata.yml'\n",
    "print('[{}]'.format(yml_filename))\n",
    "kibbles_meta = read_yml(yml_filename) \n",
    "show_keys(kibbles_meta)"
   ]
  },
  {
   "cell_type": "code",
   "execution_count": null,
   "metadata": {},
   "outputs": [],
   "source": []
  },
  {
   "cell_type": "code",
   "execution_count": null,
   "metadata": {},
   "outputs": [],
   "source": []
  }
 ],
 "metadata": {
  "kernelspec": {
   "display_name": "Python 3",
   "language": "python",
   "name": "python3"
  },
  "language_info": {
   "codemirror_mode": {
    "name": "ipython",
    "version": 3
   },
   "file_extension": ".py",
   "mimetype": "text/x-python",
   "name": "python",
   "nbconvert_exporter": "python",
   "pygments_lexer": "ipython3",
   "version": "3.6.12"
  }
 },
 "nbformat": 4,
 "nbformat_minor": 4
}
